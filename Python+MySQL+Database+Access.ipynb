{
 "cells": [
  {
   "cell_type": "markdown",
   "metadata": {},
   "source": [
    "## Python MySQL Database Access\n",
    "http://www.tutorialspoint.com/python/python_database_access.htm"
   ]
  },
  {
   "cell_type": "markdown",
   "metadata": {},
   "source": [
    "MySQLdb adalah sebuah interface untuk menghubungkan server database MySQL dari Python. Menerapkan Python Database API v2.0.\n",
    "Sebelum menghubungkan MySQL database, pastikan bahwa MySQLdb dan mysql-python-connector telah terinstal pada komputer. Pastikan juga bahwa database TESTDB telah dibuat, dan telah terdapat tabel EMPLOYEE dalam database TESTDB tersebut."
   ]
  },
  {
   "cell_type": "code",
   "execution_count": 4,
   "metadata": {
    "collapsed": true
   },
   "outputs": [],
   "source": [
    "import MySQLdb"
   ]
  },
  {
   "cell_type": "code",
   "execution_count": 7,
   "metadata": {},
   "outputs": [],
   "source": [
    "# Membuka koneksi ke database\n",
    "# Open database connection\n",
    "# Make sure XAMPP is started\n",
    "\n",
    "db=MySQLdb.connect(\"localhost\",\"root\",\"\",\"TESTDB\")"
   ]
  },
  {
   "cell_type": "code",
   "execution_count": 8,
   "metadata": {
    "collapsed": true
   },
   "outputs": [],
   "source": [
    "# Menyiapkan sebuah object cursor menggunakan method cursor()\n",
    "# Prepare a cursor object using cursor() method\n",
    "\n",
    "cursor = db.cursor()"
   ]
  },
  {
   "cell_type": "code",
   "execution_count": 9,
   "metadata": {},
   "outputs": [
    {
     "data": {
      "text/plain": [
       "1L"
      ]
     },
     "execution_count": 9,
     "metadata": {},
     "output_type": "execute_result"
    }
   ],
   "source": [
    "# mengeksekusi SQL query menggunakan method execute\n",
    "# execute SQL query using execute() method\n",
    "\n",
    "cursor.execute(\"select version()\")"
   ]
  },
  {
   "cell_type": "code",
   "execution_count": 10,
   "metadata": {
    "collapsed": true
   },
   "outputs": [],
   "source": [
    "# Mengambil sebuah single row menggunakan method fetchone()\n",
    "# Fetch a single row using fetchone() method.\n",
    "\n",
    "data= cursor.fetchone()"
   ]
  },
  {
   "cell_type": "code",
   "execution_count": 11,
   "metadata": {},
   "outputs": [
    {
     "name": "stdout",
     "output_type": "stream",
     "text": [
      "Database vesion: 10.1.25-MariaDB\n"
     ]
    }
   ],
   "source": [
    "print \"Database vesion: %s\"%data"
   ]
  },
  {
   "cell_type": "markdown",
   "metadata": {},
   "source": [
    "### Creating Database Table\n",
    "Create table EMPLOYEE in MySQLdb databse"
   ]
  },
  {
   "cell_type": "code",
   "execution_count": 12,
   "metadata": {},
   "outputs": [
    {
     "data": {
      "text/plain": [
       "0L"
      ]
     },
     "execution_count": 12,
     "metadata": {},
     "output_type": "execute_result"
    }
   ],
   "source": [
    "# Menghapus table jika sudah ada\n",
    "# Drop table if it already exist using execute() method.\n",
    "\n",
    "cursor.execute(\"drop table if exists employee\")\n",
    "\n",
    "# Membuat tabel employee\n",
    "# Create table as per requirement\n",
    "\n",
    "sql=\"\"\"create table employee(\n",
    "first_name char(20) not null,\n",
    "last_name char(20),\n",
    "age int,\n",
    "sex char(1),\n",
    "income float )\"\"\"\n",
    "cursor.execute(sql)"
   ]
  },
  {
   "cell_type": "markdown",
   "metadata": {},
   "source": [
    "### INSERT Operation\n",
    "This is operation to add the records in database table"
   ]
  },
  {
   "cell_type": "code",
   "execution_count": 13,
   "metadata": {},
   "outputs": [
    {
     "data": {
      "text/plain": [
       "<function close>"
      ]
     },
     "execution_count": 13,
     "metadata": {},
     "output_type": "execute_result"
    }
   ],
   "source": [
    "# Memasukkan sebuah record ke dalam database\n",
    "# INSERT a record into the database\n",
    "sql=\"\"\"insert into employee(first_name, last_name, age, sex, income)\n",
    "values('Mac', 'Mohan',20, 'M',2000)\"\"\"\n",
    "try:\n",
    "    # Mengeksekusi  perintah SQL\n",
    "    # Execute the SQL command\n",
    "    cursor.execute(sql)\n",
    "    # Commit perubahan dalam database\n",
    "    # Commit changes in the database\n",
    "    db.commit()\n",
    "except:\n",
    "    # Rollback jika terjadi Error\n",
    "    # Rollback in case there is any error\n",
    "    db.rollback()\n",
    "\n",
    "    # disconnect dari server\n",
    "    # disconnect from server\n",
    "db.close"
   ]
  },
  {
   "cell_type": "code",
   "execution_count": 14,
   "metadata": {},
   "outputs": [
    {
     "data": {
      "text/plain": [
       "<function close>"
      ]
     },
     "execution_count": 14,
     "metadata": {},
     "output_type": "execute_result"
    }
   ],
   "source": [
    "sql=\"\"\"insert into employee(first_name, last_name, age, sex, income)\n",
    "values('Mic','Mihan',20,'F',1900)\"\"\"\n",
    "try:\n",
    "    cursor.execute(sql)\n",
    "    db.commit()\n",
    "except:\n",
    "    db.rollback()\n",
    "db.close"
   ]
  },
  {
   "cell_type": "markdown",
   "metadata": {},
   "source": [
    "#####  Create SQL queries dynamically"
   ]
  },
  {
   "cell_type": "code",
   "execution_count": 15,
   "metadata": {},
   "outputs": [
    {
     "data": {
      "text/plain": [
       "<function close>"
      ]
     },
     "execution_count": 15,
     "metadata": {},
     "output_type": "execute_result"
    }
   ],
   "source": [
    "import MySQLdb\n",
    "\n",
    "db = MySQLdb.connect(\"localhost\",\"root\",\"\",\"TESTDB\")\n",
    "\n",
    "cursor = db.cursor\n",
    "\n",
    "sql=\"insert into employee(first_name, last_name, age, sex, income)\\\n",
    "values('%s','%s','%d','%c','%d')\"%\\\n",
    "('Abdul','Latief',25,'M',1000)\n",
    "('Maria','Idol',23,'F',2300)\n",
    "try:\n",
    "    cursor.execute(sql)\n",
    "    db.commit\n",
    "except:\n",
    "    db.rollback()\n",
    "    \n",
    "db.close"
   ]
  },
  {
   "cell_type": "markdown",
   "metadata": {},
   "source": [
    "## READ Operation\n",
    "To fetch some useful information from the database. <br>\n",
    "<b> Fetchone </b> : fetch the next row of a query result set. A result set is an object that isreturned when a cursor object is used to query a table. <br>\n",
    "<b> Fetchall </b> : fetch all the rows in a result set. If some rows have already been extracted from the result set, then it retrieves the remaining rows from the result set.<br>\n",
    "<b> Rowcount </b> : read-only attribute and returns the number of rows that were affected by an execute method."
   ]
  },
  {
   "cell_type": "markdown",
   "metadata": {},
   "source": [
    "All records from Employee table having salary more than 2000"
   ]
  },
  {
   "cell_type": "code",
   "execution_count": 32,
   "metadata": {},
   "outputs": [
    {
     "name": "stdout",
     "output_type": "stream",
     "text": [
      "fname=Mic, lname=Mihan, age=20, sex=F, income=1900\n"
     ]
    }
   ],
   "source": [
    "import MySQLdb\n",
    "\n",
    "db = MySQLdb.connect(\"localhost\",\"root\",\"\",\"TESTDB\")\n",
    "\n",
    "cursor = db.cursor()\n",
    "\n",
    "sql = \"select * from employee where income >'%d'\" % (1000)\n",
    "\n",
    "try:\n",
    "    cursor.execute(sql)\n",
    "    results = cursor.fetchall()\n",
    "    for row in results:\n",
    "        fname = row[0]\n",
    "        lname = row[1]\n",
    "        age = row[2]\n",
    "        sex = row[3]\n",
    "        income = row[4]\n",
    "    print \"fname=%s, lname=%s, age=%d, sex=%s, income=%d\"%\\\n",
    "        (fname, lname, age, sex, income)\n",
    "except:\n",
    "    print \"Error: unable to fetch data\"\n",
    "    \n",
    "db.close()    "
   ]
  },
  {
   "cell_type": "markdown",
   "metadata": {
    "collapsed": true
   },
   "source": [
    "## UPDATE Operation\n",
    "to update one or more records, which are already available in the database."
   ]
  },
  {
   "cell_type": "markdown",
   "metadata": {},
   "source": [
    "Update Age every year where sex as 'M'"
   ]
  },
  {
   "cell_type": "code",
   "execution_count": 33,
   "metadata": {
    "collapsed": true
   },
   "outputs": [],
   "source": [
    "import MySQLdb\n",
    "\n",
    "db=MySQLdb.connect(\"localhost\",\"root\",\"\",\"TESTDB\")\n",
    "\n",
    "cursor=db.cursor()\n",
    "\n",
    "sql = \" update employee set age = age + 1 where sex='%c'\"%('M')\n",
    "\n",
    "try:\n",
    "    cursor.execute(sql)\n",
    "    db.commit()\n",
    "except:\n",
    "    db.rollback()\n",
    "    \n",
    "db.close()"
   ]
  },
  {
   "cell_type": "markdown",
   "metadata": {},
   "source": [
    "## DELETE Operation\n",
    "To delete records from database"
   ]
  },
  {
   "cell_type": "markdown",
   "metadata": {},
   "source": [
    "Delete all records from employee where age is more than 20"
   ]
  },
  {
   "cell_type": "code",
   "execution_count": 35,
   "metadata": {
    "collapsed": true
   },
   "outputs": [],
   "source": [
    "import MySQLdb\n",
    "\n",
    "db=MySQLdb.connect(\"localhost\",\"root\",\"\",\"TESTDB\")\n",
    "\n",
    "cursor=db.cursor()\n",
    "\n",
    "sql=\" delete from employee where age > '%d'\"%(22)\n",
    "\n",
    "try:\n",
    "    cursor.execute(sql)\n",
    "    db.commit()\n",
    "except:\n",
    "    db.rollback()\n",
    "    \n",
    "db.close()"
   ]
  },
  {
   "cell_type": "code",
   "execution_count": null,
   "metadata": {
    "collapsed": true
   },
   "outputs": [],
   "source": []
  }
 ],
 "metadata": {
  "kernelspec": {
   "display_name": "Python 2",
   "language": "python",
   "name": "python2"
  },
  "language_info": {
   "codemirror_mode": {
    "name": "ipython",
    "version": 2
   },
   "file_extension": ".py",
   "mimetype": "text/x-python",
   "name": "python",
   "nbconvert_exporter": "python",
   "pygments_lexer": "ipython2",
   "version": "2.7.13"
  }
 },
 "nbformat": 4,
 "nbformat_minor": 2
}
